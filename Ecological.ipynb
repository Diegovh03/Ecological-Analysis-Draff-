{
 "cells": [
  {
   "cell_type": "code",
   "execution_count": 4,
   "id": "8be0ee2a-0184-499c-bff1-fbc93bc64bc1",
   "metadata": {},
   "outputs": [],
   "source": [
    "import random\n",
    "import math\n",
    "from IPython.display import clear_output, display\n",
    "from IPython.display import HTML as html\n",
    "import time\n",
    "import io\n",
    "import matplotlib.pyplot as plt\n",
    "import matplotlib.patches\n",
    "import threading\n",
    "\n",
    "%matplotlib inline\n"
   ]
  },
  {
   "cell_type": "code",
   "execution_count": 1,
   "id": "70d9b7a9-c7c5-4068-bec9-74d9e005d4b4",
   "metadata": {},
   "outputs": [],
   "source": [
    "class Ecosystem:\n",
    "    def __init__(self , pwidth=50, pheight=50 , grass=True, sheep=100, grass_regrowth_time=30) :\n",
    "        # Width and Height (in patches):\n",
    "        self.pwidth = pwidth\n",
    "        self.pheight = pheight\n",
    "        # Parameters:\n",
    "        self.use_grass = grass\n",
    "        self.grass_regrowth_time = grass_regrowth_time #0 to 100\n",
    "        \n",
    "        # Sheeps:\n",
    "        self.initial_number_sheep = sheep # 0 to 250\n",
    "\n",
    "        # Wolves :\n",
    "        self.initial_number_wolves = wolves #. to 250\n",
    "        self.state = \"stopped\"\n",
    "        self.setup()\n",
    "\n",
    "def setup(self):\n",
    "        self.history = []\n",
    "        self.ticks = 0\n",
    "        if self.use_grass:\n",
    "            self.patches = [[Patch(self, random.choice([-1, 1])) \n",
    "                             for w in range(self.pheight)] for h in range(self.pwidth)]\n",
    "        else:\n",
    "            self.patches = [[Patch(self, math.inf) \n",
    "                             for w in range(self.pheight)] for h in range(self.pwidth)]\n",
    "        self.animals = []\n",
    "        for i in range(self.initial_number_sheep):\n",
    "            self.animals.append(Sheep(self))\n",
    "        for i in range(self.initial_number_wolves):\n",
    "            self.animals.append(Wolf(self))       "
   ]
  },
  {
   "cell_type": "code",
   "execution_count": null,
   "id": "61a4d828-9b93-42e6-9296-19ac067267fe",
   "metadata": {
    "editable": true,
    "slideshow": {
     "slide_type": ""
    },
    "tags": []
   },
   "outputs": [],
   "source": []
  }
 ],
 "metadata": {
  "kernelspec": {
   "display_name": "Python 3 (ipykernel)",
   "language": "python",
   "name": "python3"
  },
  "language_info": {
   "codemirror_mode": {
    "name": "ipython",
    "version": 3
   },
   "file_extension": ".py",
   "mimetype": "text/x-python",
   "name": "python",
   "nbconvert_exporter": "python",
   "pygments_lexer": "ipython3",
   "version": "3.12.2"
  }
 },
 "nbformat": 4,
 "nbformat_minor": 5
}
